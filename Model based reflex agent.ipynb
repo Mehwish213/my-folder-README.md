{
 "cells": [
  {
   "cell_type": "markdown",
   "id": "0d637975",
   "metadata": {},
   "source": [
    "# Model based reflex agent\n",
    "\n",
    "This notebook contains the implementation of a **Model Based Reflex Agent**."
   ]
  },
  {
   "cell_type": "code",
   "execution_count": null,
   "id": "7d67dfcd",
   "metadata": {},
   "outputs": [],
   "source": [
    "class ModelBasedReflexAgent:\n",
    "    def __init__(self, temp):\n",
    "        self.fixed_temp = temp\n",
    "        self.previous_action = \"Turn off the Heater\"\n",
    "\n",
    "    def sensor(self, temp):\n",
    "        self.current_temp = temp\n",
    "\n",
    "    def performance(self):\n",
    "        if self.current_temp < self.fixed_temp:\n",
    "            if self.previous_action == \"Turn off the Heater\":\n",
    "                action = \"Turn on the Heater\"\n",
    "            else:\n",
    "                action = \"Keep Heater on\"\n",
    "        else:\n",
    "            if self.previous_action == \"Turn on the Heater\":\n",
    "                action = \"Turn off the Heater\"\n",
    "            else:\n",
    "                action = \"Keep Heater off\"\n",
    "        self.previous_action = action\n",
    "        return action\n",
    "\n",
    "    def actuators(self):\n",
    "        action = self.performance()\n",
    "        print(self.current_temp, \"=> Action:\", action)\n",
    "\n",
    "\n",
    "agent = ModelBasedReflexAgent(22)\n",
    "print(\"previous action:\", agent.previous_action)\n",
    "agent.sensor(18)\n",
    "agent.actuators()\n",
    "print(\"Fixed temperature:\", agent.fixed_temp)\n",
    "print()\n",
    "print(\"Temperatures:\")\n",
    "temperatures = [22, 19, 18, 17, 19, 20, 21, 23, 19, 18]\n",
    "for temp in temperatures:\n",
    "    agent.sensor(temp)\n",
    "    agent.actuators()\n",
    "\n",
    "print(\"\\nFinal previous action:\", agent.previous_action)"
   ]
  }
 ],
 "metadata": {},
 "nbformat": 4,
 "nbformat_minor": 5
}
