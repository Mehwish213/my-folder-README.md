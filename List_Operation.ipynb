{
 "cells": [
  {
   "cell_type": "code",
   "execution_count": 1,
   "id": "53eaddf7",
   "metadata": {},
   "outputs": [
    {
     "name": "stdout",
     "output_type": "stream",
     "text": [
      "total movies: 7\n",
      "sum of all movies:  1306500000\n",
      "avg of all movies:   186642857.14285713\n",
      "movies budget higher than avg:\n",
      "moveie name:  pirates of the caribben: on stranger tides \n",
      "moveie budget:  379000000\n",
      "moveie budget difference:  192357142.85714287\n",
      "moveie name:  avengers: age of ultron\n",
      "moveie budget:  356000000\n",
      "moveie budget difference:  169357142.85714287\n",
      "moveie name:  avengers: end game\n",
      "moveie budget:  356000000\n",
      "moveie budget difference:  169357142.85714287\n",
      "moveie name:  incredibles 2\n",
      "moveie budget:  200000000\n",
      "moveie budget difference:  13357142.857142866\n"
     ]
    }
   ],
   "source": [
    "movies = [\n",
    "    \n",
    "    (\"eternal sunshine of the spotless mind\",2000000),\n",
    "    (\"memento\",9000000),\n",
    "    (\"requiem for a dream\",4500000),\n",
    "    (\"pirates of the caribben: on stranger tides \",379000000),\n",
    "    (\"avengers: age of ultron\",356000000),\n",
    "    (\"avengers: end game\",356000000),\n",
    "    (\"incredibles 2\",200000000)\n",
    "    \n",
    "]\n",
    "sum=0\n",
    "index=0\n",
    "for i,j in movies:\n",
    "    # print(i,j)\n",
    "    sum+=j\n",
    "    index+=1\n",
    "    avg=sum/index\n",
    "print(\"total movies:\",index)\n",
    "print(\"sum of all movies: \",sum)\n",
    "print(\"avg of all movies:  \",avg)\n",
    "print(\"movies budget higher than avg:\")\n",
    "for i,j in movies: \n",
    "   if j>avg:\n",
    "       diff=j-avg\n",
    "       print(\"moveie name: \",i)\n",
    "       print(\"moveie budget: \",j)\n",
    "       print(\"moveie budget difference: \",diff)\n",
    "\n"
   ]
  }
 ],
 "metadata": {
  "kernelspec": {
   "display_name": "Python 3",
   "language": "python",
   "name": "python3"
  },
  "language_info": {
   "codemirror_mode": {
    "name": "ipython",
    "version": 3
   },
   "file_extension": ".py",
   "mimetype": "text/x-python",
   "name": "python",
   "nbconvert_exporter": "python",
   "pygments_lexer": "ipython3",
   "version": "3.9.13"
  }
 },
 "nbformat": 4,
 "nbformat_minor": 5
}
