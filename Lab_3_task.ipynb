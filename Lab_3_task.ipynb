{
 "cells": [
  {
   "cell_type": "markdown",
   "id": "2844dab0",
   "metadata": {},
   "source": [
    "TASK 1: program to remove punctuation from the string"
   ]
  },
  {
   "cell_type": "code",
   "execution_count": null,
   "id": "e6402840",
   "metadata": {},
   "outputs": [],
   "source": []
  },
  {
   "cell_type": "code",
   "execution_count": null,
   "id": "c6cd04aa",
   "metadata": {},
   "outputs": [],
   "source": []
  },
  {
   "cell_type": "code",
   "execution_count": null,
   "id": "d2905822",
   "metadata": {},
   "outputs": [],
   "source": []
  },
  {
   "cell_type": "code",
   "execution_count": 9,
   "id": "54535d3b",
   "metadata": {},
   "outputs": [
    {
     "name": "stdout",
     "output_type": "stream",
     "text": [
      "hello:mehwish_sadiq what? ah ok >\n",
      "hello:mehwish sadiq what? ah ok >\n",
      "hello mehwish sadiq what? ah ok >\n",
      "hello mehwish sadiq what  ah ok >\n",
      "hello mehwish sadiq what  ah ok  \n",
      "hello mehwish sadiq what  ah ok  \n"
     ]
    }
   ],
   "source": [
    "class remove_punctuation:\n",
    "    def __init__(self,text):\n",
    "        self.spl_char='''¬`!\"£$%^&*()_-+={}[]~#:;@'/?.>,<'''\n",
    "        self.text=text\n",
    "        return self.checking()\n",
    "    def checking(self):\n",
    "        new_str=self.text\n",
    "        print(new_str)\n",
    "        for i in self.spl_char:\n",
    "            if i in self.text:\n",
    "              new_str=new_str.replace(i,\" \")\n",
    "              print(new_str)\n",
    "        print(new_str)\n",
    "obj1=remove_punctuation(\"hello:mehwish_sadiq what? ah ok >\")"
   ]
  },
  {
   "cell_type": "markdown",
   "id": "347cdb2a",
   "metadata": {},
   "source": [
    "TASK 2: program to sort the sentence in alphabetical order"
   ]
  },
  {
   "cell_type": "code",
   "execution_count": null,
   "id": "603a2ba5",
   "metadata": {},
   "outputs": [],
   "source": [
    "text=\"Hi mehwish\"\n",
    "class Sort_string:\n",
    "    def __init__(self):\n",
    "        self.list=list(text)\n",
    "    def sort(self):\n",
    "        n=len(self.list)\n",
    "        for i in range(n-1):\n",
    "            for j in range(n-1-i):\n",
    "                if ord(self.list[j])>ord(self.list[j+1]):\n",
    "                    self.list[j],self.list[j+1]=self.list[j+1],self.list[j]\n",
    "        return \"\".join(self.list)\n",
    "n=Sort_string()\n",
    "sorted=n.sort()                \n",
    "\n",
    "print(\"origianl:\",text)\n",
    "print(\"upated text:\",sorted)"
   ]
  },
  {
   "cell_type": "markdown",
   "id": "a3e89b7a",
   "metadata": {},
   "source": [
    "TASK 3: code for luhm algorithm"
   ]
  },
  {
   "cell_type": "code",
   "execution_count": null,
   "id": "9fb97e19",
   "metadata": {},
   "outputs": [],
   "source": [
    "class lumh_algorithm:\n",
    "  def __init__(self,credit_card):\n",
    "    self.credit_card=credit_card\n",
    "    self.verfication()\n",
    "  def verfication(self):\n",
    "    x=self.credit_card.pop(-1)\n",
    "    self.credit_card.reverse()\n",
    "    for i,j in enumerate(self.credit_card):\n",
    "     if i%2==0:\n",
    "        j*=2\n",
    "        self.credit_card[i]=j\n",
    "    for i,j in enumerate(self.credit_card):\n",
    "      if j>x:\n",
    "        j-=x\n",
    "        self.credit_card[i]=j\n",
    "    self.credit_card.append(x)\n",
    "    sum=0\n",
    "    for i in self.credit_card:\n",
    "      sum+=i\n",
    "    # print(\"sum of all nums in credit card:\",sum)\n",
    "    if sum%10==0:\n",
    "      print(\"valid credit card number\")\n",
    "    else:\n",
    "      print(\"unvalid credit card number\")\n",
    "obj1=lumh_algorithm([5,8,9,3,8,0,4,1,1,5,4,5,7,2,8,9])\n",
    "obj2=lumh_algorithm([1,3,5,7,3,7,3,2,2,6,1,0,2,3,9,8])\n",
    "obj3=lumh_algorithm([2,6,7,9,0,5,3,4,5,6,1,3,4,5,6,2])\n",
    "\n",
    "    "
   ]
  }
 ],
 "metadata": {
  "kernelspec": {
   "display_name": "Python 3",
   "language": "python",
   "name": "python3"
  },
  "language_info": {
   "codemirror_mode": {
    "name": "ipython",
    "version": 3
   },
   "file_extension": ".py",
   "mimetype": "text/x-python",
   "name": "python",
   "nbconvert_exporter": "python",
   "pygments_lexer": "ipython3",
   "version": "3.9.13"
  }
 },
 "nbformat": 4,
 "nbformat_minor": 5
}
