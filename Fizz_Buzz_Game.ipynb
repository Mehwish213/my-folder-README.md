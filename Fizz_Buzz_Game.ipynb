{
 "cells": [
  {
   "cell_type": "code",
   "execution_count": 1,
   "id": "629042db",
   "metadata": {},
   "outputs": [
    {
     "name": "stdout",
     "output_type": "stream",
     "text": [
      "wrong guess.. try again\n",
      "wrong guess.. try again\n",
      "wrong guess.. try again\n",
      "fizz\n",
      "your score:  1\n",
      "wrong guess.. try again\n",
      "Final score: 1\n"
     ]
    }
   ],
   "source": [
    "import random\n",
    "user_score=0\n",
    "n=int(input(\"how many rounds you want to play: \"))\n",
    "for i in range(n):\n",
    "    com = random.randint(1,20)\n",
    "    while True:\n",
    "        user_guess=int(input('''\n",
    "                             1 for fizz\n",
    "                             2 for buzz\n",
    "                             3 for fizzbuzz\n",
    "                             4 not fizz not buzz nothing '''))\n",
    "        if user_guess>4 or user_guess<1:\n",
    "            print(\"invalid choice, try again\")\n",
    "            continue\n",
    "        if com%3==0 and com%5==0:\n",
    "            com=3\n",
    "            if com==user_guess:\n",
    "                print(\"fizzbuzz\")\n",
    "                user_score+=1\n",
    "                print(\"your score: \",user_score)\n",
    "            else:\n",
    "                print(\"wrong guess.. try again\")\n",
    "        elif com%3==0 :\n",
    "            user_score\n",
    "            com=1\n",
    "            if com==user_guess:\n",
    "                print(\"fizz\")\n",
    "                user_score+=1\n",
    "                print(\"your score: \",user_score)\n",
    "            else:\n",
    "                print(\"wrong guess.. try again\")\n",
    "        elif com%5==0:\n",
    "            user_score\n",
    "            com=2\n",
    "            if com==user_guess:\n",
    "                print(\"buzz\")\n",
    "                user_score+=1\n",
    "                print(\"your score: \",user_score)\n",
    "            else:\n",
    "                print(\"wrong guess.. try again\")\n",
    "        else:\n",
    "            user_score\n",
    "            com=4\n",
    "            if com==user_guess:\n",
    "                print(\"nth no fizz no buzz\")\n",
    "                user_score+=1\n",
    "                print(\"your score: \",user_score)\n",
    "       \n",
    "            else:\n",
    "                print(\"wrong guess.. try again\")\n",
    "        break\n",
    "print(\"Final score:\", user_score)         \n",
    "                "
   ]
  }
 ],
 "metadata": {
  "kernelspec": {
   "display_name": "Python 3",
   "language": "python",
   "name": "python3"
  },
  "language_info": {
   "codemirror_mode": {
    "name": "ipython",
    "version": 3
   },
   "file_extension": ".py",
   "mimetype": "text/x-python",
   "name": "python",
   "nbconvert_exporter": "python",
   "pygments_lexer": "ipython3",
   "version": "3.9.13"
  }
 },
 "nbformat": 4,
 "nbformat_minor": 5
}
